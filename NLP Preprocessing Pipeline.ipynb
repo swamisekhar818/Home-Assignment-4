{
  "nbformat": 4,
  "nbformat_minor": 0,
  "metadata": {
    "colab": {
      "provenance": []
    },
    "kernelspec": {
      "name": "python3",
      "display_name": "Python 3"
    },
    "language_info": {
      "name": "python"
    }
  },
  "cells": [
    {
      "cell_type": "markdown",
      "source": [
        "**NLP Preprocessing Pipeline**"
      ],
      "metadata": {
        "id": "UiCC7Ob2ljsz"
      }
    },
    {
      "cell_type": "code",
      "execution_count": null,
      "metadata": {
        "id": "KOUTzf3mlcwI"
      },
      "outputs": [],
      "source": []
    },
    {
      "cell_type": "code",
      "execution_count": null,
      "metadata": {
        "id": "NL07-SuN-Rud"
      },
      "outputs": [],
      "source": [
        "import re\n",
        "import nltk\n",
        "from nltk.corpus import stopwords\n",
        "from nltk.stem import PorterStemmer\n",
        "\n",
        "# Download stopwords only\n",
        "nltk.download('stopwords')\n",
        "\n",
        "def basic_tokenizer(text):\n",
        "    # Splits on whitespace and punctuation\n",
        "    return re.findall(r'\\b\\w+\\b', text)\n",
        "\n",
        "def preprocess_nlp(sentence):\n",
        "    # Tokenization\n",
        "    tokens = basic_tokenizer(sentence)\n",
        "    print(\"Original Tokens:\", tokens)\n",
        "\n",
        "    # Remove stopwords\n",
        "    stop_words = set(stopwords.words('english'))\n",
        "    filtered_tokens = [word for word in tokens if word.lower() not in stop_words]\n",
        "    print(\"Tokens Without Stopwords:\", filtered_tokens)\n",
        "\n",
        "    # Stemming\n",
        "    stemmer = PorterStemmer()\n",
        "    stemmed_tokens = [stemmer.stem(word) for word in filtered_tokens]\n",
        "    print(\"Stemmed Words:\", stemmed_tokens)\n",
        "\n",
        "# Test\n",
        "sentence = \"NLP techniques are used in virtual assistants like Alexa and Siri.\"\n",
        "preprocess_nlp(sentence)\n"
      ]
    }
  ]
}