{
  "nbformat": 4,
  "nbformat_minor": 0,
  "metadata": {
    "colab": {
      "provenance": []
    },
    "kernelspec": {
      "name": "python3",
      "display_name": "Python 3"
    },
    "language_info": {
      "name": "python"
    }
  },
  "cells": [
    {
      "cell_type": "code",
      "execution_count": null,
      "metadata": {
        "id": "xAXoujNnnKuT"
      },
      "outputs": [],
      "source": []
    },
    {
      "cell_type": "markdown",
      "source": [
        "**Sentiment Analysis using HuggingFace Transformers**"
      ],
      "metadata": {
        "id": "phgTfrEmnMhA"
      }
    },
    {
      "cell_type": "code",
      "source": [
        "from transformers import pipeline\n",
        "\n",
        "# Load pre-trained sentiment pipeline\n",
        "sentiment_analyzer = pipeline(\"sentiment-analysis\")\n",
        "\n",
        "def analyze_sentiment(text):\n",
        "    result = sentiment_analyzer(text)[0]\n",
        "    print(f\"Sentiment: {result['label']}\")\n",
        "    print(f\"Confidence Score: {result['score']:.4f}\")\n",
        "\n",
        "# Test\n",
        "sentence = \"Despite the high price, the performance of the new MacBook is outstanding.\"\n",
        "analyze_sentiment(sentence)\n"
      ],
      "metadata": {
        "colab": {
          "base_uri": "https://localhost:8080/",
          "height": 391,
          "referenced_widgets": [
            "132ecdb154b94b37b60a86a79ef902d9",
            "b801a4a404a348ad9230a827db60ee3e",
            "52140ee6edea4e538ab3820ea8d272ac",
            "59d4ed5cdc744d62b0c9c647b2f0d89a",
            "50e029ba8a734ed9a267916ca914d312",
            "400b74a8c85844349bf287d52d84419a",
            "111dc86f41e24ed999e2f8b9d36c274e",
            "4671d71279c2469a955720068dcb2d0a",
            "92ce931587eb4c61ac1c2513edff622e",
            "3b63ce275b6e483d971484f4985bbfd1",
            "53d42be06a2047c983ca81734ea3b6a8",
            "afd6948f50b144a78574d8864e2604b4",
            "e4a6d2ed94554c7e8bd048719b259652",
            "f4580ad7b7124eb2a248ef6dad79dcbf",
            "1df9c342658c4c79aa3690fc95420902",
            "1b1c0903285b490390c3f31545d7074b",
            "9f40490ca98c4015bff5b660bc6ad974",
            "7b66027f20a949c6abca14f761f975e5",
            "f7bc2810d9a7472b9b154b633f749802",
            "3ab6c46dae514c6c9598ce60cdb2e240",
            "a895b2c743e54204ab5858c314ab7e81",
            "44978d50ec3e4ec689f5f666f8e17c2d",
            "0a39103ff1994919875343cbb3d29eb0",
            "d2fdf0daa6bc41e48b5e03dae5f0531c",
            "feca822b4c8b4cb2bb9be34194b3f9a4",
            "e9f6bc343b1b406d9b3c677747b478e4",
            "6cddbdd52a1943b1bfe96727eb164de6",
            "57cf8912b91b4735a2c0983c94856f64",
            "7212ee08ec5d4e49aac2abeba3213811",
            "e53fbf29fa914af2a967839ccbb4a0c7",
            "014b29e5d18a464d8032ac7705a4d0dc",
            "62303be378e64e1babbc64ea52875d47",
            "4317c379c4fc4ae7838327f0a1f114ab",
            "9dcaa28c01044f2d8acaa3db786e622c",
            "b626951c5dd14529b33abfaaa17b4c93",
            "07e383d2b78f4772b3b0c6208ac19bb8",
            "fd679eb6201648f2bf8f12c78c96e9cb",
            "4c09b36cd1ea4fb6b2ead754d1833812",
            "2319e5072021461eacca0ae035a9a27b",
            "261821729024462798e50022a32ebe93",
            "d5df5595f6aa4a3a829d7fbb876c557e",
            "5578526a207a445d97209fbdce0febce",
            "353b7b44063244a59a6d25b54aa277c7",
            "afc94de2e5754f6b9ab0e29fbf4cd465"
          ]
        },
        "id": "Cc3MnFbeAi4c",
        "outputId": "4cb6b0ad-2839-4d6f-9287-238f056415e1"
      },
      "execution_count": null,
      "outputs": [
        {
          "output_type": "stream",
          "name": "stderr",
          "text": [
            "No model was supplied, defaulted to distilbert/distilbert-base-uncased-finetuned-sst-2-english and revision 714eb0f (https://huggingface.co/distilbert/distilbert-base-uncased-finetuned-sst-2-english).\n",
            "Using a pipeline without specifying a model name and revision in production is not recommended.\n",
            "/usr/local/lib/python3.11/dist-packages/huggingface_hub/utils/_auth.py:94: UserWarning: \n",
            "The secret `HF_TOKEN` does not exist in your Colab secrets.\n",
            "To authenticate with the Hugging Face Hub, create a token in your settings tab (https://huggingface.co/settings/tokens), set it as secret in your Google Colab and restart your session.\n",
            "You will be able to reuse this secret in all of your notebooks.\n",
            "Please note that authentication is recommended but still optional to access public models or datasets.\n",
            "  warnings.warn(\n"
          ]
        },
        {
          "output_type": "display_data",
          "data": {
            "text/plain": [
              "config.json:   0%|          | 0.00/629 [00:00<?, ?B/s]"
            ],
            "application/vnd.jupyter.widget-view+json": {
              "version_major": 2,
              "version_minor": 0,
              "model_id": "132ecdb154b94b37b60a86a79ef902d9"
            }
          },
          "metadata": {}
        },
        {
          "output_type": "stream",
          "name": "stderr",
          "text": [
            "Xet Storage is enabled for this repo, but the 'hf_xet' package is not installed. Falling back to regular HTTP download. For better performance, install the package with: `pip install huggingface_hub[hf_xet]` or `pip install hf_xet`\n",
            "WARNING:huggingface_hub.file_download:Xet Storage is enabled for this repo, but the 'hf_xet' package is not installed. Falling back to regular HTTP download. For better performance, install the package with: `pip install huggingface_hub[hf_xet]` or `pip install hf_xet`\n"
          ]
        },
        {
          "output_type": "display_data",
          "data": {
            "text/plain": [
              "model.safetensors:   0%|          | 0.00/268M [00:00<?, ?B/s]"
            ],
            "application/vnd.jupyter.widget-view+json": {
              "version_major": 2,
              "version_minor": 0,
              "model_id": "afd6948f50b144a78574d8864e2604b4"
            }
          },
          "metadata": {}
        },
        {
          "output_type": "display_data",
          "data": {
            "text/plain": [
              "tokenizer_config.json:   0%|          | 0.00/48.0 [00:00<?, ?B/s]"
            ],
            "application/vnd.jupyter.widget-view+json": {
              "version_major": 2,
              "version_minor": 0,
              "model_id": "0a39103ff1994919875343cbb3d29eb0"
            }
          },
          "metadata": {}
        },
        {
          "output_type": "display_data",
          "data": {
            "text/plain": [
              "vocab.txt:   0%|          | 0.00/232k [00:00<?, ?B/s]"
            ],
            "application/vnd.jupyter.widget-view+json": {
              "version_major": 2,
              "version_minor": 0,
              "model_id": "9dcaa28c01044f2d8acaa3db786e622c"
            }
          },
          "metadata": {}
        },
        {
          "output_type": "stream",
          "name": "stderr",
          "text": [
            "Device set to use cuda:0\n"
          ]
        },
        {
          "output_type": "stream",
          "name": "stdout",
          "text": [
            "Sentiment: POSITIVE\n",
            "Confidence Score: 0.9998\n"
          ]
        }
      ]
    }
  ]
}